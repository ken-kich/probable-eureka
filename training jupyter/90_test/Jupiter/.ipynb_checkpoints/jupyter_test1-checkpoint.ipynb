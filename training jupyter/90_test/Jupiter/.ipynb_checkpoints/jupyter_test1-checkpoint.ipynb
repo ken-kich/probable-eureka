{
 "cells": [
  {
   "cell_type": "markdown",
   "id": "7b4331cf-1590-4007-8514-d6bc527c6720",
   "metadata": {},
   "source": [
    "# コードを開始します\n",
    "## ここからコードを書いていきます\n",
    "\n",
    "-作成者:植木\n",
    "-作成日:2024/06/01"
   ]
  },
  {
   "cell_type": "code",
   "execution_count": 1,
   "id": "f2de3dd3-c3f6-44fe-9dfb-bd6e976b3f21",
   "metadata": {},
   "outputs": [
    {
     "name": "stdout",
     "output_type": "stream",
     "text": [
      "Hello\n"
     ]
    }
   ],
   "source": [
    "print(\"Hello\")"
   ]
  },
  {
   "cell_type": "code",
   "execution_count": 21,
   "id": "881c1f3f-21d5-4ecf-94e9-f24bf3cbfb3d",
   "metadata": {},
   "outputs": [],
   "source": [
    "value = 'New Value B'"
   ]
  },
  {
   "cell_type": "code",
   "execution_count": 5,
   "id": "5055909d-25ca-4dab-a53a-adb652c3329a",
   "metadata": {},
   "outputs": [
    {
     "name": "stdout",
     "output_type": "stream",
     "text": [
      "New Value\n"
     ]
    }
   ],
   "source": [
    "print(value)"
   ]
  },
  {
   "cell_type": "code",
   "execution_count": 6,
   "id": "2153a489-6154-4ca1-8930-38b30f8863a7",
   "metadata": {},
   "outputs": [],
   "source": [
    "a = 12 + 5"
   ]
  },
  {
   "cell_type": "markdown",
   "id": "e084307d-dc85-47c6-8c0e-3616d582b722",
   "metadata": {},
   "source": [
    "下は**関数**です"
   ]
  },
  {
   "cell_type": "code",
   "execution_count": 8,
   "id": "48fa3ea6-3a66-492c-8938-039145d9525f",
   "metadata": {},
   "outputs": [],
   "source": [
    "def print_msg(msg):\n",
    "    print(msg)"
   ]
  },
  {
   "cell_type": "code",
   "execution_count": 18,
   "id": "87adc1bd-2069-4bcd-b9ac-796cc2d3fe8e",
   "metadata": {},
   "outputs": [],
   "source": [
    "class ClassA:\n",
    "    def __init__(self,val):\n",
    "        self.val = val"
   ]
  },
  {
   "cell_type": "code",
   "execution_count": 19,
   "id": "53e46fe9-1159-4228-ba08-ae8d570e44b6",
   "metadata": {},
   "outputs": [],
   "source": [
    "class_a = ClassA('A')"
   ]
  },
  {
   "cell_type": "code",
   "execution_count": 20,
   "id": "1c2b47c0-f6ee-4e29-8c62-af3c9023b582",
   "metadata": {},
   "outputs": [
    {
     "name": "stdout",
     "output_type": "stream",
     "text": [
      "A\n"
     ]
    }
   ],
   "source": [
    "print_msg(class_a.val)"
   ]
  }
 ],
 "metadata": {
  "kernelspec": {
   "display_name": "Python 3 (ipykernel)",
   "language": "python",
   "name": "python3"
  },
  "language_info": {
   "codemirror_mode": {
    "name": "ipython",
    "version": 3
   },
   "file_extension": ".py",
   "mimetype": "text/x-python",
   "name": "python",
   "nbconvert_exporter": "python",
   "pygments_lexer": "ipython3",
   "version": "3.12.2"
  }
 },
 "nbformat": 4,
 "nbformat_minor": 5
}
